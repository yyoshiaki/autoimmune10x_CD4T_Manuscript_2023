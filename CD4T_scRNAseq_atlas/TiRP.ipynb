{
 "cells": [
  {
   "cell_type": "code",
   "execution_count": 7,
   "id": "f56478bc",
   "metadata": {},
   "outputs": [],
   "source": [
    "source(\"TiRP/TiRP.R\")"
   ]
  },
  {
   "cell_type": "code",
   "execution_count": 8,
   "id": "529b541f",
   "metadata": {},
   "outputs": [],
   "source": [
    "input <- read.csv('../scanpy/220216_STR4.5.21_MS01.02.03.04_MG01.02.03_SL02.03.04_Tcell/TCRB.csv')"
   ]
  },
  {
   "cell_type": "code",
   "execution_count": 13,
   "id": "68f0b119",
   "metadata": {},
   "outputs": [
    {
     "data": {
      "text/html": [
       "<table class=\"dataframe\">\n",
       "<caption>A data.frame: 6 × 2</caption>\n",
       "<thead>\n",
       "\t<tr><th></th><th scope=col>IR_VDJ_1_v_call</th><th scope=col>IR_VDJ_1_junction_aa</th></tr>\n",
       "\t<tr><th></th><th scope=col>&lt;chr&gt;</th><th scope=col>&lt;chr&gt;</th></tr>\n",
       "</thead>\n",
       "<tbody>\n",
       "\t<tr><th scope=row>1</th><td>TRBV7-9 </td><td>CASSSGDGFGNTIYF </td></tr>\n",
       "\t<tr><th scope=row>2</th><td>TRBV20-1</td><td>CSARPLLNTGELFF  </td></tr>\n",
       "\t<tr><th scope=row>3</th><td>TRBV5-1 </td><td>CASKFVAGVEKLFF  </td></tr>\n",
       "\t<tr><th scope=row>4</th><td>TRBV6-2 </td><td>CASSYSGDGYTF    </td></tr>\n",
       "\t<tr><th scope=row>5</th><td>TRBV12-3</td><td>CASSSGLATSTDTQYF</td></tr>\n",
       "\t<tr><th scope=row>6</th><td>TRBV12-5</td><td>CASGLGRGNEQFF   </td></tr>\n",
       "</tbody>\n",
       "</table>\n"
      ],
      "text/latex": [
       "A data.frame: 6 × 2\n",
       "\\begin{tabular}{r|ll}\n",
       "  & IR\\_VDJ\\_1\\_v\\_call & IR\\_VDJ\\_1\\_junction\\_aa\\\\\n",
       "  & <chr> & <chr>\\\\\n",
       "\\hline\n",
       "\t1 & TRBV7-9  & CASSSGDGFGNTIYF \\\\\n",
       "\t2 & TRBV20-1 & CSARPLLNTGELFF  \\\\\n",
       "\t3 & TRBV5-1  & CASKFVAGVEKLFF  \\\\\n",
       "\t4 & TRBV6-2  & CASSYSGDGYTF    \\\\\n",
       "\t5 & TRBV12-3 & CASSSGLATSTDTQYF\\\\\n",
       "\t6 & TRBV12-5 & CASGLGRGNEQFF   \\\\\n",
       "\\end{tabular}\n"
      ],
      "text/markdown": [
       "\n",
       "A data.frame: 6 × 2\n",
       "\n",
       "| <!--/--> | IR_VDJ_1_v_call &lt;chr&gt; | IR_VDJ_1_junction_aa &lt;chr&gt; |\n",
       "|---|---|---|\n",
       "| 1 | TRBV7-9  | CASSSGDGFGNTIYF  |\n",
       "| 2 | TRBV20-1 | CSARPLLNTGELFF   |\n",
       "| 3 | TRBV5-1  | CASKFVAGVEKLFF   |\n",
       "| 4 | TRBV6-2  | CASSYSGDGYTF     |\n",
       "| 5 | TRBV12-3 | CASSSGLATSTDTQYF |\n",
       "| 6 | TRBV12-5 | CASGLGRGNEQFF    |\n",
       "\n"
      ],
      "text/plain": [
       "  IR_VDJ_1_v_call IR_VDJ_1_junction_aa\n",
       "1 TRBV7-9         CASSSGDGFGNTIYF     \n",
       "2 TRBV20-1        CSARPLLNTGELFF      \n",
       "3 TRBV5-1         CASKFVAGVEKLFF      \n",
       "4 TRBV6-2         CASSYSGDGYTF        \n",
       "5 TRBV12-3        CASSSGLATSTDTQYF    \n",
       "6 TRBV12-5        CASGLGRGNEQFF       "
      ]
     },
     "metadata": {},
     "output_type": "display_data"
    }
   ],
   "source": [
    "head(input[,2:3])"
   ]
  },
  {
   "cell_type": "code",
   "execution_count": 18,
   "id": "4a4f2799",
   "metadata": {},
   "outputs": [
    {
     "data": {
      "text/html": [
       "<style>\n",
       ".list-inline {list-style: none; margin:0; padding: 0}\n",
       ".list-inline>li {display: inline-block}\n",
       ".list-inline>li:not(:last-child)::after {content: \"\\00b7\"; padding: 0 .5ex}\n",
       "</style>\n",
       "<ol class=list-inline><li>103153</li><li>3</li></ol>\n"
      ],
      "text/latex": [
       "\\begin{enumerate*}\n",
       "\\item 103153\n",
       "\\item 3\n",
       "\\end{enumerate*}\n"
      ],
      "text/markdown": [
       "1. 103153\n",
       "2. 3\n",
       "\n",
       "\n"
      ],
      "text/plain": [
       "[1] 103153      3"
      ]
     },
     "metadata": {},
     "output_type": "display_data"
    }
   ],
   "source": [
    "dim(input)"
   ]
  },
  {
   "cell_type": "code",
   "execution_count": 15,
   "id": "74281af4",
   "metadata": {},
   "outputs": [],
   "source": [
    "res = TiRP(input[,2:3])"
   ]
  },
  {
   "cell_type": "code",
   "execution_count": 16,
   "id": "931befa9",
   "metadata": {},
   "outputs": [
    {
     "data": {
      "text/html": [
       "<table class=\"dataframe\">\n",
       "<caption>A data.frame: 6 × 19</caption>\n",
       "<thead>\n",
       "\t<tr><th></th><th scope=col>IR_VDJ_1_v_call</th><th scope=col>IR_VDJ_1_junction_aa</th><th scope=col>vgene</th><th scope=col>cdr3</th><th scope=col>length</th><th scope=col>Jmotif</th><th scope=col>cdr3MR</th><th scope=col>perc_score</th><th scope=col>pos_score</th><th scope=col>vgene_score</th><th scope=col>p107_score</th><th scope=col>Jmotif_score</th><th scope=col>p113_score</th><th scope=col>length_score</th><th scope=col>total_score</th><th scope=col>vTiRP</th><th scope=col>mTiRP</th><th scope=col>jTiRP</th><th scope=col>TiRP</th></tr>\n",
       "\t<tr><th></th><th scope=col>&lt;chr&gt;</th><th scope=col>&lt;chr&gt;</th><th scope=col>&lt;chr&gt;</th><th scope=col>&lt;chr&gt;</th><th scope=col>&lt;int&gt;</th><th scope=col>&lt;chr&gt;</th><th scope=col>&lt;chr&gt;</th><th scope=col>&lt;dbl&gt;</th><th scope=col>&lt;dbl&gt;</th><th scope=col>&lt;dbl&gt;</th><th scope=col>&lt;dbl&gt;</th><th scope=col>&lt;dbl&gt;</th><th scope=col>&lt;dbl&gt;</th><th scope=col>&lt;dbl&gt;</th><th scope=col>&lt;dbl&gt;</th><th scope=col>&lt;dbl&gt;</th><th scope=col>&lt;dbl&gt;</th><th scope=col>&lt;dbl&gt;</th><th scope=col>&lt;dbl&gt;</th></tr>\n",
       "</thead>\n",
       "<tbody>\n",
       "\t<tr><th scope=row>1</th><td>TRBV7-9 </td><td>CASSSGDGFGNTIYF </td><td>TCRBV07-09</td><td>CASSSGDGFGNTIYF </td><td>15</td><td>NTIYF</td><td>SGDGF </td><td>-0.02570842</td><td> 0.152547852</td><td>0</td><td> 0.00000000</td><td> 0.05506388</td><td>0.06365549</td><td> 0.00000000</td><td>0.24555880</td><td>0.6171971</td><td> 0.3738479</td><td> 0.186868657</td><td>1.1779137</td></tr>\n",
       "\t<tr><th scope=row>2</th><td>TRBV20-1</td><td>CSARPLLNTGELFF  </td><td>TCRBV20-01</td><td>CSARPLLNTGELFF  </td><td>14</td><td>GELFF</td><td>PLLN  </td><td> 0.05832374</td><td> 0.123538630</td><td>0</td><td> 0.07958403</td><td> 0.04929169</td><td>0.04927728</td><td>-0.01902781</td><td>0.34098757</td><td>0.9538470</td><td> 0.5261116</td><td> 0.101630066</td><td>1.5815887</td></tr>\n",
       "\t<tr><th scope=row>3</th><td>TRBV5-1 </td><td>CASKFVAGVEKLFF  </td><td>TCRBV05-01</td><td>CASKFVAGVEKLFF  </td><td>14</td><td>EKLFF</td><td>FVAG  </td><td> 0.14129199</td><td> 0.041830401</td><td>0</td><td> 0.11303075</td><td>-0.03058639</td><td>0.10337216</td><td>-0.01902781</td><td>0.34991111</td><td>1.0953306</td><td> 0.5314416</td><td>-0.007435883</td><td>1.6193363</td></tr>\n",
       "\t<tr><th scope=row>4</th><td>TRBV6-2 </td><td>CASSYSGDGYTF    </td><td>TCRBV06-02</td><td>CASSYSGDGYTF    </td><td>12</td><td>DGYTF</td><td>YS    </td><td> 0.23315240</td><td> 0.266310917</td><td>0</td><td> 0.00000000</td><td>-0.13591415</td><td>0.06365549</td><td> 0.03554324</td><td>0.46274790</td><td>0.6171971</td><td> 2.1004432</td><td>-0.620991020</td><td>2.0966493</td></tr>\n",
       "\t<tr><th scope=row>5</th><td>TRBV12-3</td><td>CASSSGLATSTDTQYF</td><td>TCRBV12-03</td><td>CASSSGLATSTDTQYF</td><td>16</td><td>DTQYF</td><td>SGLATS</td><td>-0.03598011</td><td> 0.002908748</td><td>0</td><td> 0.00000000</td><td>-0.02404515</td><td>0.04927728</td><td> 0.04333654</td><td>0.03549730</td><td>0.6171971</td><td>-0.1192750</td><td>-0.208593475</td><td>0.2893287</td></tr>\n",
       "\t<tr><th scope=row>6</th><td>TRBV12-5</td><td>CASGLGRGNEQFF   </td><td>TCRBV12-05</td><td>CASGLGRGNEQFF   </td><td>13</td><td>NEQFF</td><td>LGR   </td><td> 0.14570323</td><td>-0.066906138</td><td>0</td><td>-0.03094498</td><td>-0.02326415</td><td>0.06365549</td><td> 0.00000000</td><td>0.08824345</td><td>0.4862962</td><td> 0.1706232</td><td>-0.144468215</td><td>0.5124511</td></tr>\n",
       "</tbody>\n",
       "</table>\n"
      ],
      "text/latex": [
       "A data.frame: 6 × 19\n",
       "\\begin{tabular}{r|lllllllllllllllllll}\n",
       "  & IR\\_VDJ\\_1\\_v\\_call & IR\\_VDJ\\_1\\_junction\\_aa & vgene & cdr3 & length & Jmotif & cdr3MR & perc\\_score & pos\\_score & vgene\\_score & p107\\_score & Jmotif\\_score & p113\\_score & length\\_score & total\\_score & vTiRP & mTiRP & jTiRP & TiRP\\\\\n",
       "  & <chr> & <chr> & <chr> & <chr> & <int> & <chr> & <chr> & <dbl> & <dbl> & <dbl> & <dbl> & <dbl> & <dbl> & <dbl> & <dbl> & <dbl> & <dbl> & <dbl> & <dbl>\\\\\n",
       "\\hline\n",
       "\t1 & TRBV7-9  & CASSSGDGFGNTIYF  & TCRBV07-09 & CASSSGDGFGNTIYF  & 15 & NTIYF & SGDGF  & -0.02570842 &  0.152547852 & 0 &  0.00000000 &  0.05506388 & 0.06365549 &  0.00000000 & 0.24555880 & 0.6171971 &  0.3738479 &  0.186868657 & 1.1779137\\\\\n",
       "\t2 & TRBV20-1 & CSARPLLNTGELFF   & TCRBV20-01 & CSARPLLNTGELFF   & 14 & GELFF & PLLN   &  0.05832374 &  0.123538630 & 0 &  0.07958403 &  0.04929169 & 0.04927728 & -0.01902781 & 0.34098757 & 0.9538470 &  0.5261116 &  0.101630066 & 1.5815887\\\\\n",
       "\t3 & TRBV5-1  & CASKFVAGVEKLFF   & TCRBV05-01 & CASKFVAGVEKLFF   & 14 & EKLFF & FVAG   &  0.14129199 &  0.041830401 & 0 &  0.11303075 & -0.03058639 & 0.10337216 & -0.01902781 & 0.34991111 & 1.0953306 &  0.5314416 & -0.007435883 & 1.6193363\\\\\n",
       "\t4 & TRBV6-2  & CASSYSGDGYTF     & TCRBV06-02 & CASSYSGDGYTF     & 12 & DGYTF & YS     &  0.23315240 &  0.266310917 & 0 &  0.00000000 & -0.13591415 & 0.06365549 &  0.03554324 & 0.46274790 & 0.6171971 &  2.1004432 & -0.620991020 & 2.0966493\\\\\n",
       "\t5 & TRBV12-3 & CASSSGLATSTDTQYF & TCRBV12-03 & CASSSGLATSTDTQYF & 16 & DTQYF & SGLATS & -0.03598011 &  0.002908748 & 0 &  0.00000000 & -0.02404515 & 0.04927728 &  0.04333654 & 0.03549730 & 0.6171971 & -0.1192750 & -0.208593475 & 0.2893287\\\\\n",
       "\t6 & TRBV12-5 & CASGLGRGNEQFF    & TCRBV12-05 & CASGLGRGNEQFF    & 13 & NEQFF & LGR    &  0.14570323 & -0.066906138 & 0 & -0.03094498 & -0.02326415 & 0.06365549 &  0.00000000 & 0.08824345 & 0.4862962 &  0.1706232 & -0.144468215 & 0.5124511\\\\\n",
       "\\end{tabular}\n"
      ],
      "text/markdown": [
       "\n",
       "A data.frame: 6 × 19\n",
       "\n",
       "| <!--/--> | IR_VDJ_1_v_call &lt;chr&gt; | IR_VDJ_1_junction_aa &lt;chr&gt; | vgene &lt;chr&gt; | cdr3 &lt;chr&gt; | length &lt;int&gt; | Jmotif &lt;chr&gt; | cdr3MR &lt;chr&gt; | perc_score &lt;dbl&gt; | pos_score &lt;dbl&gt; | vgene_score &lt;dbl&gt; | p107_score &lt;dbl&gt; | Jmotif_score &lt;dbl&gt; | p113_score &lt;dbl&gt; | length_score &lt;dbl&gt; | total_score &lt;dbl&gt; | vTiRP &lt;dbl&gt; | mTiRP &lt;dbl&gt; | jTiRP &lt;dbl&gt; | TiRP &lt;dbl&gt; |\n",
       "|---|---|---|---|---|---|---|---|---|---|---|---|---|---|---|---|---|---|---|---|\n",
       "| 1 | TRBV7-9  | CASSSGDGFGNTIYF  | TCRBV07-09 | CASSSGDGFGNTIYF  | 15 | NTIYF | SGDGF  | -0.02570842 |  0.152547852 | 0 |  0.00000000 |  0.05506388 | 0.06365549 |  0.00000000 | 0.24555880 | 0.6171971 |  0.3738479 |  0.186868657 | 1.1779137 |\n",
       "| 2 | TRBV20-1 | CSARPLLNTGELFF   | TCRBV20-01 | CSARPLLNTGELFF   | 14 | GELFF | PLLN   |  0.05832374 |  0.123538630 | 0 |  0.07958403 |  0.04929169 | 0.04927728 | -0.01902781 | 0.34098757 | 0.9538470 |  0.5261116 |  0.101630066 | 1.5815887 |\n",
       "| 3 | TRBV5-1  | CASKFVAGVEKLFF   | TCRBV05-01 | CASKFVAGVEKLFF   | 14 | EKLFF | FVAG   |  0.14129199 |  0.041830401 | 0 |  0.11303075 | -0.03058639 | 0.10337216 | -0.01902781 | 0.34991111 | 1.0953306 |  0.5314416 | -0.007435883 | 1.6193363 |\n",
       "| 4 | TRBV6-2  | CASSYSGDGYTF     | TCRBV06-02 | CASSYSGDGYTF     | 12 | DGYTF | YS     |  0.23315240 |  0.266310917 | 0 |  0.00000000 | -0.13591415 | 0.06365549 |  0.03554324 | 0.46274790 | 0.6171971 |  2.1004432 | -0.620991020 | 2.0966493 |\n",
       "| 5 | TRBV12-3 | CASSSGLATSTDTQYF | TCRBV12-03 | CASSSGLATSTDTQYF | 16 | DTQYF | SGLATS | -0.03598011 |  0.002908748 | 0 |  0.00000000 | -0.02404515 | 0.04927728 |  0.04333654 | 0.03549730 | 0.6171971 | -0.1192750 | -0.208593475 | 0.2893287 |\n",
       "| 6 | TRBV12-5 | CASGLGRGNEQFF    | TCRBV12-05 | CASGLGRGNEQFF    | 13 | NEQFF | LGR    |  0.14570323 | -0.066906138 | 0 | -0.03094498 | -0.02326415 | 0.06365549 |  0.00000000 | 0.08824345 | 0.4862962 |  0.1706232 | -0.144468215 | 0.5124511 |\n",
       "\n"
      ],
      "text/plain": [
       "  IR_VDJ_1_v_call IR_VDJ_1_junction_aa vgene      cdr3             length\n",
       "1 TRBV7-9         CASSSGDGFGNTIYF      TCRBV07-09 CASSSGDGFGNTIYF  15    \n",
       "2 TRBV20-1        CSARPLLNTGELFF       TCRBV20-01 CSARPLLNTGELFF   14    \n",
       "3 TRBV5-1         CASKFVAGVEKLFF       TCRBV05-01 CASKFVAGVEKLFF   14    \n",
       "4 TRBV6-2         CASSYSGDGYTF         TCRBV06-02 CASSYSGDGYTF     12    \n",
       "5 TRBV12-3        CASSSGLATSTDTQYF     TCRBV12-03 CASSSGLATSTDTQYF 16    \n",
       "6 TRBV12-5        CASGLGRGNEQFF        TCRBV12-05 CASGLGRGNEQFF    13    \n",
       "  Jmotif cdr3MR perc_score  pos_score    vgene_score p107_score  Jmotif_score\n",
       "1 NTIYF  SGDGF  -0.02570842  0.152547852 0            0.00000000  0.05506388 \n",
       "2 GELFF  PLLN    0.05832374  0.123538630 0            0.07958403  0.04929169 \n",
       "3 EKLFF  FVAG    0.14129199  0.041830401 0            0.11303075 -0.03058639 \n",
       "4 DGYTF  YS      0.23315240  0.266310917 0            0.00000000 -0.13591415 \n",
       "5 DTQYF  SGLATS -0.03598011  0.002908748 0            0.00000000 -0.02404515 \n",
       "6 NEQFF  LGR     0.14570323 -0.066906138 0           -0.03094498 -0.02326415 \n",
       "  p113_score length_score total_score vTiRP     mTiRP      jTiRP       \n",
       "1 0.06365549  0.00000000  0.24555880  0.6171971  0.3738479  0.186868657\n",
       "2 0.04927728 -0.01902781  0.34098757  0.9538470  0.5261116  0.101630066\n",
       "3 0.10337216 -0.01902781  0.34991111  1.0953306  0.5314416 -0.007435883\n",
       "4 0.06365549  0.03554324  0.46274790  0.6171971  2.1004432 -0.620991020\n",
       "5 0.04927728  0.04333654  0.03549730  0.6171971 -0.1192750 -0.208593475\n",
       "6 0.06365549  0.00000000  0.08824345  0.4862962  0.1706232 -0.144468215\n",
       "  TiRP     \n",
       "1 1.1779137\n",
       "2 1.5815887\n",
       "3 1.6193363\n",
       "4 2.0966493\n",
       "5 0.2893287\n",
       "6 0.5124511"
      ]
     },
     "metadata": {},
     "output_type": "display_data"
    }
   ],
   "source": [
    "head(res)"
   ]
  },
  {
   "cell_type": "code",
   "execution_count": 19,
   "id": "6ec3ede1",
   "metadata": {},
   "outputs": [
    {
     "data": {
      "text/html": [
       "<style>\n",
       ".list-inline {list-style: none; margin:0; padding: 0}\n",
       ".list-inline>li {display: inline-block}\n",
       ".list-inline>li:not(:last-child)::after {content: \"\\00b7\"; padding: 0 .5ex}\n",
       "</style>\n",
       "<ol class=list-inline><li>93026</li><li>19</li></ol>\n"
      ],
      "text/latex": [
       "\\begin{enumerate*}\n",
       "\\item 93026\n",
       "\\item 19\n",
       "\\end{enumerate*}\n"
      ],
      "text/markdown": [
       "1. 93026\n",
       "2. 19\n",
       "\n",
       "\n"
      ],
      "text/plain": [
       "[1] 93026    19"
      ]
     },
     "metadata": {},
     "output_type": "display_data"
    }
   ],
   "source": [
    "dim(res)"
   ]
  },
  {
   "cell_type": "code",
   "execution_count": 20,
   "id": "07c97a87",
   "metadata": {},
   "outputs": [],
   "source": [
    "write.csv(res, '../scanpy/220216_STR4.5.21_MS01.02.03.04_MG01.02.03_SL02.03.04_Tcell/TiRP.csv')"
   ]
  },
  {
   "cell_type": "code",
   "execution_count": 21,
   "id": "4175af52",
   "metadata": {},
   "outputs": [
    {
     "data": {
      "text/plain": [
       "R version 4.0.2 (2020-06-22)\n",
       "Platform: x86_64-pc-linux-gnu (64-bit)\n",
       "Running under: Ubuntu 20.04.2 LTS\n",
       "\n",
       "Matrix products: default\n",
       "BLAS:   /usr/lib/x86_64-linux-gnu/blas/libblas.so.3.9.0\n",
       "LAPACK: /usr/lib/x86_64-linux-gnu/lapack/liblapack.so.3.9.0\n",
       "\n",
       "locale:\n",
       " [1] LC_CTYPE=ja_JP.UTF-8       LC_NUMERIC=C              \n",
       " [3] LC_TIME=ja_JP.UTF-8        LC_COLLATE=ja_JP.UTF-8    \n",
       " [5] LC_MONETARY=ja_JP.UTF-8    LC_MESSAGES=ja_JP.UTF-8   \n",
       " [7] LC_PAPER=ja_JP.UTF-8       LC_NAME=C                 \n",
       " [9] LC_ADDRESS=C               LC_TELEPHONE=C            \n",
       "[11] LC_MEASUREMENT=ja_JP.UTF-8 LC_IDENTIFICATION=C       \n",
       "\n",
       "attached base packages:\n",
       "[1] stats     graphics  grDevices utils     datasets  methods   base     \n",
       "\n",
       "other attached packages:\n",
       "[1] dplyr_1.0.7   stringr_1.4.0\n",
       "\n",
       "loaded via a namespace (and not attached):\n",
       " [1] magrittr_2.0.1    tidyselect_1.1.1  uuid_0.1-4        R6_2.5.0         \n",
       " [5] rlang_0.4.11      fansi_0.5.0       tools_4.0.2       utf8_1.2.1       \n",
       " [9] DBI_1.1.1         htmltools_0.5.1.1 ellipsis_0.3.2    assertthat_0.2.1 \n",
       "[13] digest_0.6.27     tibble_3.1.2      lifecycle_1.0.0   crayon_1.4.1     \n",
       "[17] IRdisplay_1.0     purrr_0.3.4       repr_1.1.3        base64enc_0.1-3  \n",
       "[21] vctrs_0.3.8       IRkernel_1.2      glue_1.4.2        evaluate_0.14    \n",
       "[25] pbdZMQ_0.3-5      stringi_1.6.2     compiler_4.0.2    pillar_1.6.1     \n",
       "[29] generics_0.1.0    jsonlite_1.7.2    pkgconfig_2.0.3  "
      ]
     },
     "metadata": {},
     "output_type": "display_data"
    }
   ],
   "source": [
    "sessionInfo()"
   ]
  },
  {
   "cell_type": "code",
   "execution_count": null,
   "id": "79d00c88",
   "metadata": {},
   "outputs": [],
   "source": []
  }
 ],
 "metadata": {
  "kernelspec": {
   "display_name": "R 4.0.2",
   "language": "R",
   "name": "ir402"
  },
  "language_info": {
   "codemirror_mode": "r",
   "file_extension": ".r",
   "mimetype": "text/x-r-source",
   "name": "R",
   "pygments_lexer": "r",
   "version": "4.2.0"
  }
 },
 "nbformat": 4,
 "nbformat_minor": 5
}
